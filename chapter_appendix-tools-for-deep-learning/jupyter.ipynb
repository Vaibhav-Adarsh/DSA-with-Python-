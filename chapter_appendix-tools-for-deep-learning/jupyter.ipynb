{
  "cells": [
    {
      "cell_type": "markdown",
      "metadata": {
        "id": "view-in-github",
        "colab_type": "text"
      },
      "source": [
        "<a href=\"https://colab.research.google.com/github/Vaibhav-Adarsh/DSA-with-Python-/blob/main/chapter_appendix-tools-for-deep-learning/jupyter.ipynb\" target=\"_parent\"><img src=\"https://colab.research.google.com/assets/colab-badge.svg\" alt=\"Open In Colab\"/></a>"
      ]
    },
    {
      "cell_type": "code",
      "source": [
        "def locate_card(cards, query):\n",
        "    pass"
      ],
      "metadata": {
        "id": "gkvieHXFTOBR"
      },
      "id": "gkvieHXFTOBR",
      "execution_count": 29,
      "outputs": []
    },
    {
      "cell_type": "code",
      "source": [
        "cards = [13,11,10,7,4,3,1,0]\n",
        "query = 7\n",
        "output = 3"
      ],
      "metadata": {
        "id": "0sIsuv6KU6zr"
      },
      "id": "0sIsuv6KU6zr",
      "execution_count": 30,
      "outputs": []
    },
    {
      "cell_type": "code",
      "source": [
        "result = locate_card(cards,query)\n",
        "print(result)"
      ],
      "metadata": {
        "colab": {
          "base_uri": "https://localhost:8080/"
        },
        "id": "qgHdSEDET17_",
        "outputId": "837bef9a-db4f-4c95-c057-c4d3e8daf94a"
      },
      "id": "qgHdSEDET17_",
      "execution_count": 31,
      "outputs": [
        {
          "output_type": "stream",
          "name": "stdout",
          "text": [
            "None\n"
          ]
        }
      ]
    },
    {
      "cell_type": "code",
      "source": [
        "result == output"
      ],
      "metadata": {
        "colab": {
          "base_uri": "https://localhost:8080/"
        },
        "id": "aGmHvA5EVis1",
        "outputId": "dd6af113-7203-4fd6-c137-37c2ee156ef5"
      },
      "id": "aGmHvA5EVis1",
      "execution_count": 32,
      "outputs": [
        {
          "output_type": "execute_result",
          "data": {
            "text/plain": [
              "False"
            ]
          },
          "metadata": {},
          "execution_count": 32
        }
      ]
    },
    {
      "cell_type": "code",
      "source": [
        "test = {\n",
        "    'input': {\n",
        "        'cards': [13,11,10,7,4,3,1,0],\n",
        "        'query': 7\n",
        "    },\n",
        "    'output': 3\n",
        "}"
      ],
      "metadata": {
        "id": "JeOCOgCqVmGN"
      },
      "id": "JeOCOgCqVmGN",
      "execution_count": 33,
      "outputs": []
    },
    {
      "cell_type": "code",
      "source": [
        "locate_card(**test['input']) == test['output']"
      ],
      "metadata": {
        "colab": {
          "base_uri": "https://localhost:8080/"
        },
        "id": "xu4dOeYbV4h6",
        "outputId": "ffee300f-c4b4-4ca1-b93f-b394149be88e"
      },
      "id": "xu4dOeYbV4h6",
      "execution_count": 34,
      "outputs": [
        {
          "output_type": "execute_result",
          "data": {
            "text/plain": [
              "False"
            ]
          },
          "metadata": {},
          "execution_count": 34
        }
      ]
    },
    {
      "cell_type": "code",
      "source": [
        "test = []"
      ],
      "metadata": {
        "id": "I-YFDTj6V9pB"
      },
      "id": "I-YFDTj6V9pB",
      "execution_count": 35,
      "outputs": []
    },
    {
      "cell_type": "code",
      "source": [
        "test.append(test)\n",
        "\n",
        "test.append({\n",
        "    'input': {\n",
        "        'cards': [13,11,10,7,4,3,1,0],\n",
        "        'query': 1\n",
        "    },\n",
        "    'output': 6\n",
        "})"
      ],
      "metadata": {
        "id": "-m6TyXGIWFPE"
      },
      "id": "-m6TyXGIWFPE",
      "execution_count": 36,
      "outputs": []
    },
    {
      "cell_type": "code",
      "source": [
        "test.append({\n",
        "    'input': {\n",
        "        'cards': [4,2,1,-1],\n",
        "        'query': 4\n",
        "    },\n",
        "    'output': 0\n",
        "})"
      ],
      "metadata": {
        "id": "_wh-Lxn7WPhn"
      },
      "id": "_wh-Lxn7WPhn",
      "execution_count": 37,
      "outputs": []
    },
    {
      "cell_type": "code",
      "source": [
        "test.append({\n",
        "    'input': {\n",
        "        'cards': [3,-1,-9,-127],\n",
        "        'query': -127\n",
        "    },\n",
        "    'output': 3\n",
        "})"
      ],
      "metadata": {
        "id": "v8TP79EsWd33"
      },
      "id": "v8TP79EsWd33",
      "execution_count": 38,
      "outputs": []
    },
    {
      "cell_type": "code",
      "source": [
        "test.append({\n",
        "    'input': {\n",
        "        'cards': [6],\n",
        "        'query': 6\n",
        "    },\n",
        "    'output': 0\n",
        "})"
      ],
      "metadata": {
        "id": "mT-mhczkXKIG"
      },
      "id": "mT-mhczkXKIG",
      "execution_count": 39,
      "outputs": []
    },
    {
      "cell_type": "code",
      "source": [
        "test.append({\n",
        "    'input': {\n",
        "        'cards': [9,7,5,2,-9],\n",
        "        'query': 4\n",
        "    },\n",
        "    'output': -1\n",
        "})"
      ],
      "metadata": {
        "id": "QT4-uLqKXQrH"
      },
      "id": "QT4-uLqKXQrH",
      "execution_count": 40,
      "outputs": []
    },
    {
      "cell_type": "code",
      "source": [
        "test.append({\n",
        "    'input':{\n",
        "        'cards': [],\n",
        "        'query': 7\n",
        "    }\n",
        "})"
      ],
      "metadata": {
        "id": "8D47KzrqXW1Q"
      },
      "id": "8D47KzrqXW1Q",
      "execution_count": 41,
      "outputs": []
    },
    {
      "cell_type": "code",
      "source": [
        "test.append({\n",
        "    'input': {\n",
        "        'cards': [8,8,6,6,6,6,6,3,2,2,2,0,0,0],\n",
        "        'query': 3\n",
        "    },\n",
        "    'output': 7\n",
        "})"
      ],
      "metadata": {
        "id": "CHPRKFeTXcuJ"
      },
      "id": "CHPRKFeTXcuJ",
      "execution_count": 42,
      "outputs": []
    },
    {
      "cell_type": "code",
      "source": [
        "test.append({\n",
        "    'input': {\n",
        "        'cards': [8,8,6,6,6,6,6,3,2,2,2,0,0,0],\n",
        "        'query': 6\n",
        "    },\n",
        "    'output': 2\n",
        "})"
      ],
      "metadata": {
        "id": "AUwRP1baXhYU"
      },
      "id": "AUwRP1baXhYU",
      "execution_count": 43,
      "outputs": []
    },
    {
      "cell_type": "markdown",
      "source": [
        "Implementing The Function"
      ],
      "metadata": {
        "id": "CIU57k0vYS2L"
      },
      "id": "CIU57k0vYS2L"
    },
    {
      "cell_type": "code",
      "source": [
        "def locate_card(cards,query):\n",
        "  position = 0\n",
        "  while True:\n",
        "    if position == len(cards): # Check before accessing cards[position]\n",
        "      return -1\n",
        "    if cards[position] == query:\n",
        "      return position\n",
        "    position += 1"
      ],
      "metadata": {
        "id": "RacV4Au5ijkk"
      },
      "id": "RacV4Au5ijkk",
      "execution_count": 44,
      "outputs": []
    },
    {
      "cell_type": "code",
      "source": [
        "test"
      ],
      "metadata": {
        "colab": {
          "base_uri": "https://localhost:8080/"
        },
        "id": "9RRvbI0pZgrv",
        "outputId": "237c7dc9-0a36-4786-b7e3-3377c8bc8a7b"
      },
      "id": "9RRvbI0pZgrv",
      "execution_count": 45,
      "outputs": [
        {
          "output_type": "execute_result",
          "data": {
            "text/plain": [
              "[[...],\n",
              " {'input': {'cards': [13, 11, 10, 7, 4, 3, 1, 0], 'query': 1}, 'output': 6},\n",
              " {'input': {'cards': [4, 2, 1, -1], 'query': 4}, 'output': 0},\n",
              " {'input': {'cards': [3, -1, -9, -127], 'query': -127}, 'output': 3},\n",
              " {'input': {'cards': [6], 'query': 6}, 'output': 0},\n",
              " {'input': {'cards': [9, 7, 5, 2, -9], 'query': 4}, 'output': -1},\n",
              " {'input': {'cards': [], 'query': 7}},\n",
              " {'input': {'cards': [8, 8, 6, 6, 6, 6, 6, 3, 2, 2, 2, 0, 0, 0], 'query': 3},\n",
              "  'output': 7},\n",
              " {'input': {'cards': [8, 8, 6, 6, 6, 6, 6, 3, 2, 2, 2, 0, 0, 0], 'query': 6},\n",
              "  'output': 2}]"
            ]
          },
          "metadata": {},
          "execution_count": 45
        }
      ]
    },
    {
      "cell_type": "code",
      "source": [
        "  test[1]"
      ],
      "metadata": {
        "colab": {
          "base_uri": "https://localhost:8080/"
        },
        "id": "3gqPQpRxchnk",
        "outputId": "9355c60d-5100-48c9-bc2b-0fb67436afe0"
      },
      "id": "3gqPQpRxchnk",
      "execution_count": 46,
      "outputs": [
        {
          "output_type": "execute_result",
          "data": {
            "text/plain": [
              "{'input': {'cards': [13, 11, 10, 7, 4, 3, 1, 0], 'query': 1}, 'output': 6}"
            ]
          },
          "metadata": {},
          "execution_count": 46
        }
      ]
    },
    {
      "cell_type": "code",
      "source": [
        "first_test_case = test[1]\n",
        "cards_input = first_test_case['input']['cards']\n",
        "query_input = first_test_case['input']['query']\n",
        "expected_output = first_test_case['output']\n",
        "\n",
        "actual_output = locate_card(cards_input, query_input)\n",
        "print(f\"Input cards: {cards_input}\")\n",
        "print(f\"Input query: {query_input}\")\n",
        "print(f\"Expected output: {expected_output}\")\n",
        "print(f\"Actual output: {actual_output}\")\n",
        "\n",
        "if actual_output == expected_output:\n",
        "    print(\"Test passed!\")\n",
        "else:\n",
        "    print(\"Test failed!\")"
      ],
      "metadata": {
        "id": "y9LzUyp6dIgy",
        "colab": {
          "base_uri": "https://localhost:8080/"
        },
        "outputId": "df822d77-4e11-49f1-9d78-ebbca058d754"
      },
      "id": "y9LzUyp6dIgy",
      "execution_count": 47,
      "outputs": [
        {
          "output_type": "stream",
          "name": "stdout",
          "text": [
            "Input cards: [13, 11, 10, 7, 4, 3, 1, 0]\n",
            "Input query: 1\n",
            "Expected output: 6\n",
            "Actual output: 6\n",
            "Test passed!\n"
          ]
        }
      ]
    },
    {
      "cell_type": "markdown",
      "source": [
        "**Testing All test Cases In One go**\n"
      ],
      "metadata": {
        "id": "b6Ld9aORjS-L"
      },
      "id": "b6Ld9aORjS-L"
    },
    {
      "cell_type": "code",
      "source": [
        "for i, test_case in enumerate(test[1:]): # Start from the second element\n",
        "  print(f\"Test Case {i+1}:\")\n",
        "\n",
        "  cards_input = test_case['input']['cards']\n",
        "  query_input = test_case['input']['query']\n",
        "  # Check if 'output' key exists before accessing it\n",
        "  expected_output = test_case['output']\n",
        "\n",
        "  actual_output = locate_card(cards_input, query_input)\n",
        "\n",
        "  print(f\"Input cards: {cards_input}\")\n",
        "  print(f\"Input query: {query_input}\")\n",
        "  print(f\"Expected output: {expected_output}\")\n",
        "  print(f\"Actual output: {actual_output}\")\n",
        "\n",
        "  if actual_output == expected_output:\n",
        "    print(\"Test passed!\")\n",
        "  else:\n",
        "    print(\"Test failed!\")\n",
        "  print(\"_\"*20)"
      ],
      "metadata": {
        "colab": {
          "base_uri": "https://localhost:8080/",
          "height": 835
        },
        "id": "rSKz3aJosCYP",
        "outputId": "7a21772a-2a04-4abc-bfd7-c35e73c4fe0e"
      },
      "id": "rSKz3aJosCYP",
      "execution_count": 48,
      "outputs": [
        {
          "output_type": "stream",
          "name": "stdout",
          "text": [
            "Test Case 1:\n",
            "Input cards: [13, 11, 10, 7, 4, 3, 1, 0]\n",
            "Input query: 1\n",
            "Expected output: 6\n",
            "Actual output: 6\n",
            "Test passed!\n",
            "____________________\n",
            "Test Case 2:\n",
            "Input cards: [4, 2, 1, -1]\n",
            "Input query: 4\n",
            "Expected output: 0\n",
            "Actual output: 0\n",
            "Test passed!\n",
            "____________________\n",
            "Test Case 3:\n",
            "Input cards: [3, -1, -9, -127]\n",
            "Input query: -127\n",
            "Expected output: 3\n",
            "Actual output: 3\n",
            "Test passed!\n",
            "____________________\n",
            "Test Case 4:\n",
            "Input cards: [6]\n",
            "Input query: 6\n",
            "Expected output: 0\n",
            "Actual output: 0\n",
            "Test passed!\n",
            "____________________\n",
            "Test Case 5:\n",
            "Input cards: [9, 7, 5, 2, -9]\n",
            "Input query: 4\n",
            "Expected output: -1\n",
            "Actual output: -1\n",
            "Test passed!\n",
            "____________________\n",
            "Test Case 6:\n"
          ]
        },
        {
          "output_type": "error",
          "ename": "KeyError",
          "evalue": "'output'",
          "traceback": [
            "\u001b[0;31m---------------------------------------------------------------------------\u001b[0m",
            "\u001b[0;31mKeyError\u001b[0m                                  Traceback (most recent call last)",
            "\u001b[0;32m/tmp/ipython-input-1406737683.py\u001b[0m in \u001b[0;36m<cell line: 0>\u001b[0;34m()\u001b[0m\n\u001b[1;32m      5\u001b[0m   \u001b[0mquery_input\u001b[0m \u001b[0;34m=\u001b[0m \u001b[0mtest_case\u001b[0m\u001b[0;34m[\u001b[0m\u001b[0;34m'input'\u001b[0m\u001b[0;34m]\u001b[0m\u001b[0;34m[\u001b[0m\u001b[0;34m'query'\u001b[0m\u001b[0;34m]\u001b[0m\u001b[0;34m\u001b[0m\u001b[0;34m\u001b[0m\u001b[0m\n\u001b[1;32m      6\u001b[0m   \u001b[0;31m# Check if 'output' key exists before accessing it\u001b[0m\u001b[0;34m\u001b[0m\u001b[0;34m\u001b[0m\u001b[0m\n\u001b[0;32m----> 7\u001b[0;31m   \u001b[0mexpected_output\u001b[0m \u001b[0;34m=\u001b[0m \u001b[0mtest_case\u001b[0m\u001b[0;34m[\u001b[0m\u001b[0;34m'output'\u001b[0m\u001b[0;34m]\u001b[0m\u001b[0;34m\u001b[0m\u001b[0;34m\u001b[0m\u001b[0m\n\u001b[0m\u001b[1;32m      8\u001b[0m \u001b[0;34m\u001b[0m\u001b[0m\n\u001b[1;32m      9\u001b[0m   \u001b[0mactual_output\u001b[0m \u001b[0;34m=\u001b[0m \u001b[0mlocate_card\u001b[0m\u001b[0;34m(\u001b[0m\u001b[0mcards_input\u001b[0m\u001b[0;34m,\u001b[0m \u001b[0mquery_input\u001b[0m\u001b[0;34m)\u001b[0m\u001b[0;34m\u001b[0m\u001b[0;34m\u001b[0m\u001b[0m\n",
            "\u001b[0;31mKeyError\u001b[0m: 'output'"
          ]
        }
      ]
    },
    {
      "cell_type": "code",
      "source": [
        "def locate_card(cards, query):\n",
        "  position = 0\n",
        "\n",
        "  print('cards:', cards)\n",
        "  print('query:', query)\n",
        "\n",
        "  while True:\n",
        "    print('position:', position)\n",
        "\n",
        "    if cards[position] == query:\n",
        "      return position\n",
        "\n",
        "      position +=1\n",
        "      if psition == len(cards):\n",
        "        return -1"
      ],
      "metadata": {
        "id": "qoV9gUu1okPM"
      },
      "id": "qoV9gUu1okPM",
      "execution_count": 49,
      "outputs": []
    },
    {
      "cell_type": "code",
      "source": [
        "cards6 = test[6]['input']['cards']\n",
        "query6 = test[6]['input']['query']\n",
        "\n",
        "locate_card(cards6, query6)"
      ],
      "metadata": {
        "colab": {
          "base_uri": "https://localhost:8080/",
          "height": 349
        },
        "id": "Dw8H-fBnreR-",
        "outputId": "43d3bd17-8576-4a8a-80de-303c1d0c77e1"
      },
      "id": "Dw8H-fBnreR-",
      "execution_count": 50,
      "outputs": [
        {
          "output_type": "stream",
          "name": "stdout",
          "text": [
            "cards: []\n",
            "query: 7\n",
            "position: 0\n"
          ]
        },
        {
          "output_type": "error",
          "ename": "IndexError",
          "evalue": "list index out of range",
          "traceback": [
            "\u001b[0;31m---------------------------------------------------------------------------\u001b[0m",
            "\u001b[0;31mIndexError\u001b[0m                                Traceback (most recent call last)",
            "\u001b[0;32m/tmp/ipython-input-2925230161.py\u001b[0m in \u001b[0;36m<cell line: 0>\u001b[0;34m()\u001b[0m\n\u001b[1;32m      2\u001b[0m \u001b[0mquery6\u001b[0m \u001b[0;34m=\u001b[0m \u001b[0mtest\u001b[0m\u001b[0;34m[\u001b[0m\u001b[0;36m6\u001b[0m\u001b[0;34m]\u001b[0m\u001b[0;34m[\u001b[0m\u001b[0;34m'input'\u001b[0m\u001b[0;34m]\u001b[0m\u001b[0;34m[\u001b[0m\u001b[0;34m'query'\u001b[0m\u001b[0;34m]\u001b[0m\u001b[0;34m\u001b[0m\u001b[0;34m\u001b[0m\u001b[0m\n\u001b[1;32m      3\u001b[0m \u001b[0;34m\u001b[0m\u001b[0m\n\u001b[0;32m----> 4\u001b[0;31m \u001b[0mlocate_card\u001b[0m\u001b[0;34m(\u001b[0m\u001b[0mcards6\u001b[0m\u001b[0;34m,\u001b[0m \u001b[0mquery6\u001b[0m\u001b[0;34m)\u001b[0m\u001b[0;34m\u001b[0m\u001b[0;34m\u001b[0m\u001b[0m\n\u001b[0m",
            "\u001b[0;32m/tmp/ipython-input-3989688385.py\u001b[0m in \u001b[0;36mlocate_card\u001b[0;34m(cards, query)\u001b[0m\n\u001b[1;32m      8\u001b[0m     \u001b[0mprint\u001b[0m\u001b[0;34m(\u001b[0m\u001b[0;34m'position:'\u001b[0m\u001b[0;34m,\u001b[0m \u001b[0mposition\u001b[0m\u001b[0;34m)\u001b[0m\u001b[0;34m\u001b[0m\u001b[0;34m\u001b[0m\u001b[0m\n\u001b[1;32m      9\u001b[0m \u001b[0;34m\u001b[0m\u001b[0m\n\u001b[0;32m---> 10\u001b[0;31m     \u001b[0;32mif\u001b[0m \u001b[0mcards\u001b[0m\u001b[0;34m[\u001b[0m\u001b[0mposition\u001b[0m\u001b[0;34m]\u001b[0m \u001b[0;34m==\u001b[0m \u001b[0mquery\u001b[0m\u001b[0;34m:\u001b[0m\u001b[0;34m\u001b[0m\u001b[0;34m\u001b[0m\u001b[0m\n\u001b[0m\u001b[1;32m     11\u001b[0m       \u001b[0;32mreturn\u001b[0m \u001b[0mposition\u001b[0m\u001b[0;34m\u001b[0m\u001b[0;34m\u001b[0m\u001b[0m\n\u001b[1;32m     12\u001b[0m \u001b[0;34m\u001b[0m\u001b[0m\n",
            "\u001b[0;31mIndexError\u001b[0m: list index out of range"
          ]
        }
      ]
    },
    {
      "cell_type": "code",
      "source": [
        "def locate_card(cards, query):\n",
        "  position = 0\n",
        "  while position < len(cards):\n",
        "    if cards[position] == query:\n",
        "      return position\n",
        "    position += 1\n",
        "  return -1"
      ],
      "metadata": {
        "id": "CgZmm94oyHZZ"
      },
      "id": "CgZmm94oyHZZ",
      "execution_count": 51,
      "outputs": []
    },
    {
      "cell_type": "code",
      "source": [
        "test[6]"
      ],
      "metadata": {
        "colab": {
          "base_uri": "https://localhost:8080/"
        },
        "id": "EEkXxQIRycz0",
        "outputId": "8100978e-960f-4977-d306-644d05d80df9"
      },
      "id": "EEkXxQIRycz0",
      "execution_count": 52,
      "outputs": [
        {
          "output_type": "execute_result",
          "data": {
            "text/plain": [
              "{'input': {'cards': [], 'query': 7}}"
            ]
          },
          "metadata": {},
          "execution_count": 52
        }
      ]
    },
    {
      "cell_type": "code",
      "source": [
        "locate_card(cards6,query6)"
      ],
      "metadata": {
        "colab": {
          "base_uri": "https://localhost:8080/"
        },
        "id": "ftsSmLv5yfY6",
        "outputId": "38f0b60e-bc70-4a08-f33d-cb91f73277b4"
      },
      "id": "ftsSmLv5yfY6",
      "execution_count": 53,
      "outputs": [
        {
          "output_type": "execute_result",
          "data": {
            "text/plain": [
              "-1"
            ]
          },
          "metadata": {},
          "execution_count": 53
        }
      ]
    },
    {
      "cell_type": "code",
      "source": [
        "for i, test_case in enumerate(test[1:]):\n",
        "  print(f\"Test Case {i+1}:\")\n",
        "\n",
        "  cards_input = test_case['input']['cards']\n",
        "  query_input = test_case['input']['query']\n",
        "  # Check if 'output' key exists before accessing it\n",
        "  expected_output = test_case.get('output', None)\n",
        "\n",
        "  actual_output = locate_card(cards_input, query_input)\n",
        "\n",
        "  print(f\"Input cards: {cards_input}\")\n",
        "  print(f\"Input query: {query_input}\")\n",
        "  print(f\"Expected output: {expected_output}\")\n",
        "  print(f\"Actual output: {actual_output}\")\n",
        "\n",
        "  if actual_output == expected_output:\n",
        "    print(\"Test passed!\")\n",
        "  else:\n",
        "    print(\"Test failed!\")\n",
        "  print(\"_\"*20)"
      ],
      "metadata": {
        "colab": {
          "base_uri": "https://localhost:8080/"
        },
        "id": "tZ1PpwZSYsj6",
        "outputId": "223848fb-43e2-4d90-bd31-c2dc310952f4"
      },
      "id": "tZ1PpwZSYsj6",
      "execution_count": 56,
      "outputs": [
        {
          "output_type": "stream",
          "name": "stdout",
          "text": [
            "Test Case 1:\n",
            "Input cards: [13, 11, 10, 7, 4, 3, 1, 0]\n",
            "Input query: 1\n",
            "Expected output: 6\n",
            "Actual output: 6\n",
            "Test passed!\n",
            "____________________\n",
            "Test Case 2:\n",
            "Input cards: [4, 2, 1, -1]\n",
            "Input query: 4\n",
            "Expected output: 0\n",
            "Actual output: 0\n",
            "Test passed!\n",
            "____________________\n",
            "Test Case 3:\n",
            "Input cards: [3, -1, -9, -127]\n",
            "Input query: -127\n",
            "Expected output: 3\n",
            "Actual output: 3\n",
            "Test passed!\n",
            "____________________\n",
            "Test Case 4:\n",
            "Input cards: [6]\n",
            "Input query: 6\n",
            "Expected output: 0\n",
            "Actual output: 0\n",
            "Test passed!\n",
            "____________________\n",
            "Test Case 5:\n",
            "Input cards: [9, 7, 5, 2, -9]\n",
            "Input query: 4\n",
            "Expected output: -1\n",
            "Actual output: -1\n",
            "Test passed!\n",
            "____________________\n",
            "Test Case 6:\n",
            "Input cards: []\n",
            "Input query: 7\n",
            "Expected output: None\n",
            "Actual output: -1\n",
            "Test failed!\n",
            "____________________\n",
            "Test Case 7:\n",
            "Input cards: [8, 8, 6, 6, 6, 6, 6, 3, 2, 2, 2, 0, 0, 0]\n",
            "Input query: 3\n",
            "Expected output: 7\n",
            "Actual output: 7\n",
            "Test passed!\n",
            "____________________\n",
            "Test Case 8:\n",
            "Input cards: [8, 8, 6, 6, 6, 6, 6, 3, 2, 2, 2, 0, 0, 0]\n",
            "Input query: 6\n",
            "Expected output: 2\n",
            "Actual output: 2\n",
            "Test passed!\n",
            "____________________\n"
          ]
        }
      ]
    },
    {
      "cell_type": "code",
      "source": [
        "!pip install jovian --upgrade --quiet\n"
      ],
      "metadata": {
        "id": "Vg0brzLstPC8",
        "outputId": "b2521d25-5be7-48fa-8598-6869f9c1bd36",
        "colab": {
          "base_uri": "https://localhost:8080/"
        }
      },
      "id": "Vg0brzLstPC8",
      "execution_count": 1,
      "outputs": [
        {
          "output_type": "stream",
          "name": "stdout",
          "text": [
            "  Preparing metadata (setup.py) ... \u001b[?25l\u001b[?25hdone\n",
            "\u001b[?25l   \u001b[90m━━━━━━━━━━━━━━━━━━━━━━━━━━━━━━━━━━━━━━━━\u001b[0m \u001b[32m0.0/68.6 kB\u001b[0m \u001b[31m?\u001b[0m eta \u001b[36m-:--:--\u001b[0m\r\u001b[2K   \u001b[90m━━━━━━━━━━━━━━━━━━━━━━━━━━━━━━━━━━━━━━━━\u001b[0m \u001b[32m68.6/68.6 kB\u001b[0m \u001b[31m4.2 MB/s\u001b[0m eta \u001b[36m0:00:00\u001b[0m\n",
            "\u001b[?25h  Building wheel for uuid (setup.py) ... \u001b[?25l\u001b[?25hdone\n"
          ]
        }
      ]
    },
    {
      "cell_type": "code",
      "source": [
        "import jovian"
      ],
      "metadata": {
        "id": "OQsHfRDatWjE"
      },
      "id": "OQsHfRDatWjE",
      "execution_count": 2,
      "outputs": []
    }
  ],
  "metadata": {
    "kernelspec": {
      "display_name": "Python 3",
      "name": "python3"
    },
    "language_info": {
      "name": "python"
    },
    "required_libs": [],
    "colab": {
      "provenance": [],
      "include_colab_link": true
    }
  },
  "nbformat": 4,
  "nbformat_minor": 5
}