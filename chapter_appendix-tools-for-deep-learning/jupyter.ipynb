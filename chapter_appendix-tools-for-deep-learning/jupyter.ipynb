{
  "cells": [
    {
      "cell_type": "markdown",
      "metadata": {
        "id": "view-in-github",
        "colab_type": "text"
      },
      "source": [
        "<a href=\"https://colab.research.google.com/github/Vaibhav-Adarsh/DSA-with-Python-/blob/main/chapter_appendix-tools-for-deep-learning/jupyter.ipynb\" target=\"_parent\"><img src=\"https://colab.research.google.com/assets/colab-badge.svg\" alt=\"Open In Colab\"/></a>"
      ]
    },
    {
      "cell_type": "code",
      "source": [
        "def locate_card(cards, query):\n",
        "    pass"
      ],
      "metadata": {
        "id": "gkvieHXFTOBR"
      },
      "id": "gkvieHXFTOBR",
      "execution_count": 2,
      "outputs": []
    },
    {
      "cell_type": "code",
      "source": [
        "cards = [13,11,10,7,4,3,1,0]\n",
        "query = 7\n",
        "output = 3"
      ],
      "metadata": {
        "id": "0sIsuv6KU6zr"
      },
      "id": "0sIsuv6KU6zr",
      "execution_count": 3,
      "outputs": []
    },
    {
      "cell_type": "code",
      "source": [
        "result = locate_card(cards,query)\n",
        "print(result)"
      ],
      "metadata": {
        "colab": {
          "base_uri": "https://localhost:8080/"
        },
        "id": "qgHdSEDET17_",
        "outputId": "a254feed-1c45-4a3c-9b12-b61d85ead762"
      },
      "id": "qgHdSEDET17_",
      "execution_count": 4,
      "outputs": [
        {
          "output_type": "stream",
          "name": "stdout",
          "text": [
            "None\n"
          ]
        }
      ]
    },
    {
      "cell_type": "code",
      "source": [
        "result == output"
      ],
      "metadata": {
        "colab": {
          "base_uri": "https://localhost:8080/"
        },
        "id": "aGmHvA5EVis1",
        "outputId": "f8f02b87-712c-4917-f26a-576b2e6b475d"
      },
      "id": "aGmHvA5EVis1",
      "execution_count": 5,
      "outputs": [
        {
          "output_type": "execute_result",
          "data": {
            "text/plain": [
              "False"
            ]
          },
          "metadata": {},
          "execution_count": 5
        }
      ]
    },
    {
      "cell_type": "code",
      "source": [
        "test = {\n",
        "    'input': {\n",
        "        'cards': [13,11,10,7,4,3,1,0],\n",
        "        'query': 7\n",
        "    },\n",
        "    'output': 3\n",
        "}"
      ],
      "metadata": {
        "id": "JeOCOgCqVmGN"
      },
      "id": "JeOCOgCqVmGN",
      "execution_count": 6,
      "outputs": []
    },
    {
      "cell_type": "code",
      "source": [
        "locate_card(**test['input']) == test['output']"
      ],
      "metadata": {
        "colab": {
          "base_uri": "https://localhost:8080/"
        },
        "id": "xu4dOeYbV4h6",
        "outputId": "64c91b67-f1f9-4607-b78a-6f6cb16b33ee"
      },
      "id": "xu4dOeYbV4h6",
      "execution_count": 7,
      "outputs": [
        {
          "output_type": "execute_result",
          "data": {
            "text/plain": [
              "False"
            ]
          },
          "metadata": {},
          "execution_count": 7
        }
      ]
    },
    {
      "cell_type": "code",
      "source": [
        "test = []"
      ],
      "metadata": {
        "id": "I-YFDTj6V9pB"
      },
      "id": "I-YFDTj6V9pB",
      "execution_count": 8,
      "outputs": []
    },
    {
      "cell_type": "code",
      "source": [
        "test.append(test)\n",
        "\n",
        "test.append({\n",
        "    'input': {\n",
        "        'cards': [13,11,10,7,4,3,1,0],\n",
        "        'query': 1\n",
        "    },\n",
        "    'output': 6\n",
        "})"
      ],
      "metadata": {
        "id": "-m6TyXGIWFPE"
      },
      "id": "-m6TyXGIWFPE",
      "execution_count": 9,
      "outputs": []
    },
    {
      "cell_type": "code",
      "source": [
        "test.append({\n",
        "    'input': {\n",
        "        'cards': [4,2,1,-1],\n",
        "        'query': 4\n",
        "    },\n",
        "    'output': 0\n",
        "})"
      ],
      "metadata": {
        "id": "_wh-Lxn7WPhn"
      },
      "id": "_wh-Lxn7WPhn",
      "execution_count": 10,
      "outputs": []
    },
    {
      "cell_type": "code",
      "source": [
        "test.append({\n",
        "    'input': {\n",
        "        'cards': [3,-1,-9,-127],\n",
        "        'query': -127\n",
        "    },\n",
        "    'output': 3\n",
        "})"
      ],
      "metadata": {
        "id": "v8TP79EsWd33"
      },
      "id": "v8TP79EsWd33",
      "execution_count": 11,
      "outputs": []
    },
    {
      "cell_type": "code",
      "source": [
        "test.append({\n",
        "    'input': {\n",
        "        'cards': [6],\n",
        "        'query': 6\n",
        "    },\n",
        "    'output': 0\n",
        "})"
      ],
      "metadata": {
        "id": "mT-mhczkXKIG"
      },
      "id": "mT-mhczkXKIG",
      "execution_count": 12,
      "outputs": []
    },
    {
      "cell_type": "code",
      "source": [
        "test.append({\n",
        "    'input': {\n",
        "        'cards': [9,7,5,2,-9],\n",
        "        'query': 4\n",
        "    },\n",
        "    'output': -1\n",
        "})"
      ],
      "metadata": {
        "id": "QT4-uLqKXQrH"
      },
      "id": "QT4-uLqKXQrH",
      "execution_count": 13,
      "outputs": []
    },
    {
      "cell_type": "code",
      "source": [
        "test.append({\n",
        "    'input':{\n",
        "        'cards': [],\n",
        "        'query': 7\n",
        "    }\n",
        "})"
      ],
      "metadata": {
        "id": "8D47KzrqXW1Q"
      },
      "id": "8D47KzrqXW1Q",
      "execution_count": 14,
      "outputs": []
    },
    {
      "cell_type": "code",
      "source": [
        "test.append({\n",
        "    'input': {\n",
        "        'cards': [8,8,6,6,6,6,6,3,2,2,2,0,0,0],\n",
        "        'query': 3\n",
        "    },\n",
        "    'output': 7\n",
        "})"
      ],
      "metadata": {
        "id": "CHPRKFeTXcuJ"
      },
      "id": "CHPRKFeTXcuJ",
      "execution_count": 15,
      "outputs": []
    },
    {
      "cell_type": "code",
      "source": [
        "test.append({\n",
        "    'input': {\n",
        "        'cards': [8,8,6,6,6,6,6,3,2,2,2,0,0,0],\n",
        "        'query': 6\n",
        "    },\n",
        "    'output': 2\n",
        "})"
      ],
      "metadata": {
        "id": "AUwRP1baXhYU"
      },
      "id": "AUwRP1baXhYU",
      "execution_count": 16,
      "outputs": []
    },
    {
      "cell_type": "markdown",
      "source": [
        "Implementing The Function"
      ],
      "metadata": {
        "id": "CIU57k0vYS2L"
      },
      "id": "CIU57k0vYS2L"
    },
    {
      "cell_type": "code",
      "source": [
        "def locate_card(cards,query):\n",
        "  position = 0\n",
        "  while True:\n",
        "    if position == len(cards): # Check before accessing cards[position]\n",
        "      return -1\n",
        "    if cards[position] == query:\n",
        "      return position\n",
        "    position += 1"
      ],
      "metadata": {
        "id": "RacV4Au5ijkk"
      },
      "id": "RacV4Au5ijkk",
      "execution_count": 17,
      "outputs": []
    },
    {
      "cell_type": "code",
      "source": [
        "test"
      ],
      "metadata": {
        "colab": {
          "base_uri": "https://localhost:8080/"
        },
        "id": "9RRvbI0pZgrv",
        "outputId": "925c9d74-9b4c-46e2-c32b-08d515732ae8"
      },
      "id": "9RRvbI0pZgrv",
      "execution_count": 18,
      "outputs": [
        {
          "output_type": "execute_result",
          "data": {
            "text/plain": [
              "[[...],\n",
              " {'input': {'cards': [13, 11, 10, 7, 4, 3, 1, 0], 'query': 1}, 'output': 6},\n",
              " {'input': {'cards': [4, 2, 1, -1], 'query': 4}, 'output': 0},\n",
              " {'input': {'cards': [3, -1, -9, -127], 'query': -127}, 'output': 3},\n",
              " {'input': {'cards': [6], 'query': 6}, 'output': 0},\n",
              " {'input': {'cards': [9, 7, 5, 2, -9], 'query': 4}, 'output': -1},\n",
              " {'input': {'cards': [], 'query': 7}},\n",
              " {'input': {'cards': [8, 8, 6, 6, 6, 6, 6, 3, 2, 2, 2, 0, 0, 0], 'query': 3},\n",
              "  'output': 7},\n",
              " {'input': {'cards': [8, 8, 6, 6, 6, 6, 6, 3, 2, 2, 2, 0, 0, 0], 'query': 6},\n",
              "  'output': 2}]"
            ]
          },
          "metadata": {},
          "execution_count": 18
        }
      ]
    },
    {
      "cell_type": "code",
      "source": [
        "  test[1]"
      ],
      "metadata": {
        "colab": {
          "base_uri": "https://localhost:8080/"
        },
        "id": "3gqPQpRxchnk",
        "outputId": "84026b86-f741-4735-cbee-788fcafcdd19"
      },
      "id": "3gqPQpRxchnk",
      "execution_count": 19,
      "outputs": [
        {
          "output_type": "execute_result",
          "data": {
            "text/plain": [
              "{'input': {'cards': [13, 11, 10, 7, 4, 3, 1, 0], 'query': 1}, 'output': 6}"
            ]
          },
          "metadata": {},
          "execution_count": 19
        }
      ]
    },
    {
      "cell_type": "code",
      "source": [
        "first_test_case = test[1]\n",
        "cards_input = first_test_case['input']['cards']\n",
        "query_input = first_test_case['input']['query']\n",
        "expected_output = first_test_case['output']\n",
        "\n",
        "actual_output = locate_card(cards_input, query_input)\n",
        "print(f\"Input cards: {cards_input}\")\n",
        "print(f\"Input query: {query_input}\")\n",
        "print(f\"Expected output: {expected_output}\")\n",
        "print(f\"Actual output: {actual_output}\")\n",
        "\n",
        "if actual_output == expected_output:\n",
        "    print(\"Test passed!\")\n",
        "else:\n",
        "    print(\"Test failed!\")"
      ],
      "metadata": {
        "id": "y9LzUyp6dIgy",
        "colab": {
          "base_uri": "https://localhost:8080/"
        },
        "outputId": "2b2e9054-ab2c-48d8-f84f-bc1462342a27"
      },
      "id": "y9LzUyp6dIgy",
      "execution_count": 20,
      "outputs": [
        {
          "output_type": "stream",
          "name": "stdout",
          "text": [
            "Input cards: [13, 11, 10, 7, 4, 3, 1, 0]\n",
            "Input query: 1\n",
            "Expected output: 6\n",
            "Actual output: 6\n",
            "Test passed!\n"
          ]
        }
      ]
    },
    {
      "cell_type": "markdown",
      "source": [
        "**Testing All test Cases In One go**\n"
      ],
      "metadata": {
        "id": "b6Ld9aORjS-L"
      },
      "id": "b6Ld9aORjS-L"
    },
    {
      "cell_type": "code",
      "source": [
        "for i, test_case in enumerate(test[1:]): # Start from the second element\n",
        "  print(f\"Test Case {i+1}:\")\n",
        "\n",
        "  cards_input = test_case['input']['cards']\n",
        "  query_input = test_case['input']['query']\n",
        "  # Check if 'output' key exists before accessing it\n",
        "  expected_output = test_case['output']\n",
        "\n",
        "  actual_output = locate_card(cards_input, query_input)\n",
        "\n",
        "  print(f\"Input cards: {cards_input}\")\n",
        "  print(f\"Input query: {query_input}\")\n",
        "  print(f\"Expected output: {expected_output}\")\n",
        "  print(f\"Actual output: {actual_output}\")\n",
        "\n",
        "  if actual_output == expected_output:\n",
        "    print(\"Test passed!\")\n",
        "  else:\n",
        "    print(\"Test failed!\")\n",
        "  print(\"_\"*20)"
      ],
      "metadata": {
        "colab": {
          "base_uri": "https://localhost:8080/",
          "height": 836
        },
        "id": "rSKz3aJosCYP",
        "outputId": "786defa7-5f92-44c1-aa20-ccf60e2fadc6"
      },
      "id": "rSKz3aJosCYP",
      "execution_count": 21,
      "outputs": [
        {
          "output_type": "stream",
          "name": "stdout",
          "text": [
            "Test Case 1:\n",
            "Input cards: [13, 11, 10, 7, 4, 3, 1, 0]\n",
            "Input query: 1\n",
            "Expected output: 6\n",
            "Actual output: 6\n",
            "Test passed!\n",
            "____________________\n",
            "Test Case 2:\n",
            "Input cards: [4, 2, 1, -1]\n",
            "Input query: 4\n",
            "Expected output: 0\n",
            "Actual output: 0\n",
            "Test passed!\n",
            "____________________\n",
            "Test Case 3:\n",
            "Input cards: [3, -1, -9, -127]\n",
            "Input query: -127\n",
            "Expected output: 3\n",
            "Actual output: 3\n",
            "Test passed!\n",
            "____________________\n",
            "Test Case 4:\n",
            "Input cards: [6]\n",
            "Input query: 6\n",
            "Expected output: 0\n",
            "Actual output: 0\n",
            "Test passed!\n",
            "____________________\n",
            "Test Case 5:\n",
            "Input cards: [9, 7, 5, 2, -9]\n",
            "Input query: 4\n",
            "Expected output: -1\n",
            "Actual output: -1\n",
            "Test passed!\n",
            "____________________\n",
            "Test Case 6:\n"
          ]
        },
        {
          "output_type": "error",
          "ename": "KeyError",
          "evalue": "'output'",
          "traceback": [
            "\u001b[0;31m---------------------------------------------------------------------------\u001b[0m",
            "\u001b[0;31mKeyError\u001b[0m                                  Traceback (most recent call last)",
            "\u001b[0;32m/tmp/ipython-input-1406737683.py\u001b[0m in \u001b[0;36m<cell line: 0>\u001b[0;34m()\u001b[0m\n\u001b[1;32m      5\u001b[0m   \u001b[0mquery_input\u001b[0m \u001b[0;34m=\u001b[0m \u001b[0mtest_case\u001b[0m\u001b[0;34m[\u001b[0m\u001b[0;34m'input'\u001b[0m\u001b[0;34m]\u001b[0m\u001b[0;34m[\u001b[0m\u001b[0;34m'query'\u001b[0m\u001b[0;34m]\u001b[0m\u001b[0;34m\u001b[0m\u001b[0;34m\u001b[0m\u001b[0m\n\u001b[1;32m      6\u001b[0m   \u001b[0;31m# Check if 'output' key exists before accessing it\u001b[0m\u001b[0;34m\u001b[0m\u001b[0;34m\u001b[0m\u001b[0m\n\u001b[0;32m----> 7\u001b[0;31m   \u001b[0mexpected_output\u001b[0m \u001b[0;34m=\u001b[0m \u001b[0mtest_case\u001b[0m\u001b[0;34m[\u001b[0m\u001b[0;34m'output'\u001b[0m\u001b[0;34m]\u001b[0m\u001b[0;34m\u001b[0m\u001b[0;34m\u001b[0m\u001b[0m\n\u001b[0m\u001b[1;32m      8\u001b[0m \u001b[0;34m\u001b[0m\u001b[0m\n\u001b[1;32m      9\u001b[0m   \u001b[0mactual_output\u001b[0m \u001b[0;34m=\u001b[0m \u001b[0mlocate_card\u001b[0m\u001b[0;34m(\u001b[0m\u001b[0mcards_input\u001b[0m\u001b[0;34m,\u001b[0m \u001b[0mquery_input\u001b[0m\u001b[0;34m)\u001b[0m\u001b[0;34m\u001b[0m\u001b[0;34m\u001b[0m\u001b[0m\n",
            "\u001b[0;31mKeyError\u001b[0m: 'output'"
          ]
        }
      ]
    },
    {
      "cell_type": "code",
      "source": [
        "def locate_card(cards, query):\n",
        "  position = 0\n",
        "\n",
        "  print('cards:', cards)\n",
        "  print('query:', query)\n",
        "\n",
        "  while True:\n",
        "    print('position:', position)\n",
        "\n",
        "    if cards[position] == query:\n",
        "      return position\n",
        "\n",
        "      position +=1\n",
        "      if psition == len(cards):\n",
        "        return -1"
      ],
      "metadata": {
        "id": "qoV9gUu1okPM"
      },
      "id": "qoV9gUu1okPM",
      "execution_count": 22,
      "outputs": []
    },
    {
      "cell_type": "code",
      "source": [
        "cards6 = test[6]['input']['cards']\n",
        "query6 = test[6]['input']['query']\n",
        "\n",
        "locate_card(cards6, query6)"
      ],
      "metadata": {
        "colab": {
          "base_uri": "https://localhost:8080/",
          "height": 349
        },
        "id": "Dw8H-fBnreR-",
        "outputId": "9c13237d-4118-4293-d085-4512d8dc9b71"
      },
      "id": "Dw8H-fBnreR-",
      "execution_count": 24,
      "outputs": [
        {
          "output_type": "stream",
          "name": "stdout",
          "text": [
            "cards: []\n",
            "query: 7\n",
            "position: 0\n"
          ]
        },
        {
          "output_type": "error",
          "ename": "IndexError",
          "evalue": "list index out of range",
          "traceback": [
            "\u001b[0;31m---------------------------------------------------------------------------\u001b[0m",
            "\u001b[0;31mIndexError\u001b[0m                                Traceback (most recent call last)",
            "\u001b[0;32m/tmp/ipython-input-2925230161.py\u001b[0m in \u001b[0;36m<cell line: 0>\u001b[0;34m()\u001b[0m\n\u001b[1;32m      2\u001b[0m \u001b[0mquery6\u001b[0m \u001b[0;34m=\u001b[0m \u001b[0mtest\u001b[0m\u001b[0;34m[\u001b[0m\u001b[0;36m6\u001b[0m\u001b[0;34m]\u001b[0m\u001b[0;34m[\u001b[0m\u001b[0;34m'input'\u001b[0m\u001b[0;34m]\u001b[0m\u001b[0;34m[\u001b[0m\u001b[0;34m'query'\u001b[0m\u001b[0;34m]\u001b[0m\u001b[0;34m\u001b[0m\u001b[0;34m\u001b[0m\u001b[0m\n\u001b[1;32m      3\u001b[0m \u001b[0;34m\u001b[0m\u001b[0m\n\u001b[0;32m----> 4\u001b[0;31m \u001b[0mlocate_card\u001b[0m\u001b[0;34m(\u001b[0m\u001b[0mcards6\u001b[0m\u001b[0;34m,\u001b[0m \u001b[0mquery6\u001b[0m\u001b[0;34m)\u001b[0m\u001b[0;34m\u001b[0m\u001b[0;34m\u001b[0m\u001b[0m\n\u001b[0m",
            "\u001b[0;32m/tmp/ipython-input-3989688385.py\u001b[0m in \u001b[0;36mlocate_card\u001b[0;34m(cards, query)\u001b[0m\n\u001b[1;32m      8\u001b[0m     \u001b[0mprint\u001b[0m\u001b[0;34m(\u001b[0m\u001b[0;34m'position:'\u001b[0m\u001b[0;34m,\u001b[0m \u001b[0mposition\u001b[0m\u001b[0;34m)\u001b[0m\u001b[0;34m\u001b[0m\u001b[0;34m\u001b[0m\u001b[0m\n\u001b[1;32m      9\u001b[0m \u001b[0;34m\u001b[0m\u001b[0m\n\u001b[0;32m---> 10\u001b[0;31m     \u001b[0;32mif\u001b[0m \u001b[0mcards\u001b[0m\u001b[0;34m[\u001b[0m\u001b[0mposition\u001b[0m\u001b[0;34m]\u001b[0m \u001b[0;34m==\u001b[0m \u001b[0mquery\u001b[0m\u001b[0;34m:\u001b[0m\u001b[0;34m\u001b[0m\u001b[0;34m\u001b[0m\u001b[0m\n\u001b[0m\u001b[1;32m     11\u001b[0m       \u001b[0;32mreturn\u001b[0m \u001b[0mposition\u001b[0m\u001b[0;34m\u001b[0m\u001b[0;34m\u001b[0m\u001b[0m\n\u001b[1;32m     12\u001b[0m \u001b[0;34m\u001b[0m\u001b[0m\n",
            "\u001b[0;31mIndexError\u001b[0m: list index out of range"
          ]
        }
      ]
    },
    {
      "cell_type": "code",
      "source": [
        "def locate_card(cards, query):\n",
        "  position = 0\n",
        "  while position < len(cards):\n",
        "    if cards[position] == query:\n",
        "      return position\n",
        "    position += 1\n",
        "  return -1"
      ],
      "metadata": {
        "id": "CgZmm94oyHZZ"
      },
      "id": "CgZmm94oyHZZ",
      "execution_count": 25,
      "outputs": []
    },
    {
      "cell_type": "code",
      "source": [
        "test[6]"
      ],
      "metadata": {
        "colab": {
          "base_uri": "https://localhost:8080/"
        },
        "id": "EEkXxQIRycz0",
        "outputId": "adfd42f1-3762-4f34-b2d3-6d5830bc2a8f"
      },
      "id": "EEkXxQIRycz0",
      "execution_count": 26,
      "outputs": [
        {
          "output_type": "execute_result",
          "data": {
            "text/plain": [
              "{'input': {'cards': [], 'query': 7}}"
            ]
          },
          "metadata": {},
          "execution_count": 26
        }
      ]
    },
    {
      "cell_type": "code",
      "source": [
        "locate_card(cards6,query6)"
      ],
      "metadata": {
        "colab": {
          "base_uri": "https://localhost:8080/"
        },
        "id": "ftsSmLv5yfY6",
        "outputId": "255a23b5-a22d-4b25-9fd2-86a76faf3899"
      },
      "id": "ftsSmLv5yfY6",
      "execution_count": 27,
      "outputs": [
        {
          "output_type": "execute_result",
          "data": {
            "text/plain": [
              "-1"
            ]
          },
          "metadata": {},
          "execution_count": 27
        }
      ]
    },
    {
      "cell_type": "code",
      "source": [
        "for i, test_case in enumerate(test[1:]):\n",
        "  print(f\"Test Case {i+1}:\")\n",
        "\n",
        "  cards_input = test_case['input']['cards']\n",
        "  query_input = test_case['input']['query']\n",
        "  # Check if 'output' key exists before accessing it\n",
        "  expected_output = test_case.get('output', None)\n",
        "\n",
        "  actual_output = locate_card(cards_input, query_input)\n",
        "\n",
        "  print(f\"Input cards: {cards_input}\")\n",
        "  print(f\"Input query: {query_input}\")\n",
        "  print(f\"Expected output: {expected_output}\")\n",
        "  print(f\"Actual output: {actual_output}\")\n",
        "\n",
        "  if actual_output == expected_output:\n",
        "    print(\"Test passed!\")\n",
        "  else:\n",
        "    print(\"Test failed!\")\n",
        "  print(\"_\"*20)"
      ],
      "metadata": {
        "colab": {
          "base_uri": "https://localhost:8080/"
        },
        "id": "tZ1PpwZSYsj6",
        "outputId": "a3e2aa28-5df3-419d-d29b-9a1f976322da"
      },
      "id": "tZ1PpwZSYsj6",
      "execution_count": 28,
      "outputs": [
        {
          "output_type": "stream",
          "name": "stdout",
          "text": [
            "Test Case 1:\n",
            "Input cards: [13, 11, 10, 7, 4, 3, 1, 0]\n",
            "Input query: 1\n",
            "Expected output: 6\n",
            "Actual output: 6\n",
            "Test passed!\n",
            "____________________\n",
            "Test Case 2:\n",
            "Input cards: [4, 2, 1, -1]\n",
            "Input query: 4\n",
            "Expected output: 0\n",
            "Actual output: 0\n",
            "Test passed!\n",
            "____________________\n",
            "Test Case 3:\n",
            "Input cards: [3, -1, -9, -127]\n",
            "Input query: -127\n",
            "Expected output: 3\n",
            "Actual output: 3\n",
            "Test passed!\n",
            "____________________\n",
            "Test Case 4:\n",
            "Input cards: [6]\n",
            "Input query: 6\n",
            "Expected output: 0\n",
            "Actual output: 0\n",
            "Test passed!\n",
            "____________________\n",
            "Test Case 5:\n",
            "Input cards: [9, 7, 5, 2, -9]\n",
            "Input query: 4\n",
            "Expected output: -1\n",
            "Actual output: -1\n",
            "Test passed!\n",
            "____________________\n",
            "Test Case 6:\n",
            "Input cards: []\n",
            "Input query: 7\n",
            "Expected output: None\n",
            "Actual output: -1\n",
            "Test failed!\n",
            "____________________\n",
            "Test Case 7:\n",
            "Input cards: [8, 8, 6, 6, 6, 6, 6, 3, 2, 2, 2, 0, 0, 0]\n",
            "Input query: 3\n",
            "Expected output: 7\n",
            "Actual output: 7\n",
            "Test passed!\n",
            "____________________\n",
            "Test Case 8:\n",
            "Input cards: [8, 8, 6, 6, 6, 6, 6, 3, 2, 2, 2, 0, 0, 0]\n",
            "Input query: 6\n",
            "Expected output: 2\n",
            "Actual output: 2\n",
            "Test passed!\n",
            "____________________\n"
          ]
        }
      ]
    },
    {
      "cell_type": "code",
      "source": [
        "!pip install jovian --upgrade --quiet\n"
      ],
      "metadata": {
        "colab": {
          "base_uri": "https://localhost:8080/"
        },
        "id": "Vg0brzLstPC8",
        "outputId": "8109c1e6-dd34-4885-c865-4aa403d81146"
      },
      "id": "Vg0brzLstPC8",
      "execution_count": 29,
      "outputs": [
        {
          "output_type": "stream",
          "name": "stdout",
          "text": [
            "  Preparing metadata (setup.py) ... \u001b[?25l\u001b[?25hdone\n",
            "\u001b[?25l   \u001b[90m━━━━━━━━━━━━━━━━━━━━━━━━━━━━━━━━━━━━━━━━\u001b[0m \u001b[32m0.0/68.6 kB\u001b[0m \u001b[31m?\u001b[0m eta \u001b[36m-:--:--\u001b[0m\r\u001b[2K   \u001b[90m━━━━━━━━━━━━━━━━━━━━━━━━━━━━━━━━━━━━━━━━\u001b[0m \u001b[32m68.6/68.6 kB\u001b[0m \u001b[31m2.2 MB/s\u001b[0m eta \u001b[36m0:00:00\u001b[0m\n",
            "\u001b[?25h  Building wheel for uuid (setup.py) ... \u001b[?25l\u001b[?25hdone\n"
          ]
        }
      ]
    },
    {
      "cell_type": "code",
      "source": [
        "import jovian"
      ],
      "metadata": {
        "id": "OQsHfRDatWjE"
      },
      "id": "OQsHfRDatWjE",
      "execution_count": 30,
      "outputs": []
    },
    {
      "cell_type": "code",
      "source": [
        "def locate_card(cards,query):\n",
        "  lo, hi = 0, len(cards)-1\n",
        "\n",
        "  while lo <= hi:\n",
        "    mid = (lo + hi) // 2\n",
        "    mid_number = cards[mid]\n",
        "\n",
        "    print(\"lo:\", lo, \", hi:\", hi, \", mid:\", mid, \", mid_number:\", mid_number)\n",
        "\n",
        "    if mid_number == query:\n",
        "      return mid\n",
        "    elif mid_number < query:\n",
        "      hi = mid - 1\n",
        "    elif mid_number > query:\n",
        "      lo = mid + 1\n",
        "  return -1"
      ],
      "metadata": {
        "id": "PLfsxSP8Xehk"
      },
      "id": "PLfsxSP8Xehk",
      "execution_count": 31,
      "outputs": []
    },
    {
      "cell_type": "code",
      "source": [
        "for i, test_case in enumerate(test[1:]):\n",
        "  print(f\"Test Case {i+1}:\")\n",
        "\n",
        "  cards_input = test_case['input']['cards']\n",
        "  query_input = test_case['input']['query']\n",
        "  # Check if 'output' key exists before accessing it\n",
        "  expected_output = test_case.get('output', None)\n",
        "\n",
        "  actual_output = locate_card(cards_input, query_input)\n",
        "\n",
        "  print(f\"Input cards: {cards_input}\")\n",
        "  print(f\"Input query: {query_input}\")\n",
        "  print(f\"Expected output: {expected_output}\")\n",
        "  print(f\"Actual output: {actual_output}\")\n",
        "\n",
        "  if actual_output == expected_output:\n",
        "    print(\"Test passed!\")\n",
        "  else:\n",
        "    print(\"Test failed!\")\n",
        "  print(\"_\"*20)"
      ],
      "metadata": {
        "colab": {
          "base_uri": "https://localhost:8080/"
        },
        "id": "qAIHT9ZQnDDj",
        "outputId": "90ccaffe-53fd-4ca7-bd6d-63d039a3cd12"
      },
      "id": "qAIHT9ZQnDDj",
      "execution_count": 32,
      "outputs": [
        {
          "output_type": "stream",
          "name": "stdout",
          "text": [
            "Test Case 1:\n",
            "lo: 0 , hi: 7 , mid: 3 , mid_number: 7\n",
            "lo: 4 , hi: 7 , mid: 5 , mid_number: 3\n",
            "lo: 6 , hi: 7 , mid: 6 , mid_number: 1\n",
            "Input cards: [13, 11, 10, 7, 4, 3, 1, 0]\n",
            "Input query: 1\n",
            "Expected output: 6\n",
            "Actual output: 6\n",
            "Test passed!\n",
            "____________________\n",
            "Test Case 2:\n",
            "lo: 0 , hi: 3 , mid: 1 , mid_number: 2\n",
            "lo: 0 , hi: 0 , mid: 0 , mid_number: 4\n",
            "Input cards: [4, 2, 1, -1]\n",
            "Input query: 4\n",
            "Expected output: 0\n",
            "Actual output: 0\n",
            "Test passed!\n",
            "____________________\n",
            "Test Case 3:\n",
            "lo: 0 , hi: 3 , mid: 1 , mid_number: -1\n",
            "lo: 2 , hi: 3 , mid: 2 , mid_number: -9\n",
            "lo: 3 , hi: 3 , mid: 3 , mid_number: -127\n",
            "Input cards: [3, -1, -9, -127]\n",
            "Input query: -127\n",
            "Expected output: 3\n",
            "Actual output: 3\n",
            "Test passed!\n",
            "____________________\n",
            "Test Case 4:\n",
            "lo: 0 , hi: 0 , mid: 0 , mid_number: 6\n",
            "Input cards: [6]\n",
            "Input query: 6\n",
            "Expected output: 0\n",
            "Actual output: 0\n",
            "Test passed!\n",
            "____________________\n",
            "Test Case 5:\n",
            "lo: 0 , hi: 4 , mid: 2 , mid_number: 5\n",
            "lo: 3 , hi: 4 , mid: 3 , mid_number: 2\n",
            "Input cards: [9, 7, 5, 2, -9]\n",
            "Input query: 4\n",
            "Expected output: -1\n",
            "Actual output: -1\n",
            "Test passed!\n",
            "____________________\n",
            "Test Case 6:\n",
            "Input cards: []\n",
            "Input query: 7\n",
            "Expected output: None\n",
            "Actual output: -1\n",
            "Test failed!\n",
            "____________________\n",
            "Test Case 7:\n",
            "lo: 0 , hi: 13 , mid: 6 , mid_number: 6\n",
            "lo: 7 , hi: 13 , mid: 10 , mid_number: 2\n",
            "lo: 7 , hi: 9 , mid: 8 , mid_number: 2\n",
            "lo: 7 , hi: 7 , mid: 7 , mid_number: 3\n",
            "Input cards: [8, 8, 6, 6, 6, 6, 6, 3, 2, 2, 2, 0, 0, 0]\n",
            "Input query: 3\n",
            "Expected output: 7\n",
            "Actual output: 7\n",
            "Test passed!\n",
            "____________________\n",
            "Test Case 8:\n",
            "lo: 0 , hi: 13 , mid: 6 , mid_number: 6\n",
            "Input cards: [8, 8, 6, 6, 6, 6, 6, 3, 2, 2, 2, 0, 0, 0]\n",
            "Input query: 6\n",
            "Expected output: 2\n",
            "Actual output: 6\n",
            "Test failed!\n",
            "____________________\n"
          ]
        }
      ]
    },
    {
      "cell_type": "code",
      "source": [
        "test[8]"
      ],
      "metadata": {
        "colab": {
          "base_uri": "https://localhost:8080/"
        },
        "id": "-yYb8CXPne2v",
        "outputId": "2cbe0387-5a1d-4f2a-8965-234475a9d263"
      },
      "id": "-yYb8CXPne2v",
      "execution_count": 34,
      "outputs": [
        {
          "output_type": "execute_result",
          "data": {
            "text/plain": [
              "{'input': {'cards': [8, 8, 6, 6, 6, 6, 6, 3, 2, 2, 2, 0, 0, 0], 'query': 6},\n",
              " 'output': 2}"
            ]
          },
          "metadata": {},
          "execution_count": 34
        }
      ]
    },
    {
      "cell_type": "code",
      "source": [
        "eight_test_case = test[8]\n",
        "cards_input = eight_test_case['input']['cards']\n",
        "query_input = eight_test_case['input']['query']\n",
        "expected_output = eight_test_case['output']\n",
        "\n",
        "actual_output = locate_card(cards_input, query_input)\n",
        "print(f\"Input cards: {cards_input}\")\n",
        "print(f\"Input query: {query_input}\")\n",
        "print(f\"Expected output: {expected_output}\")\n",
        "print(f\"Actual output: {actual_output}\")\n",
        "\n",
        "if actual_output == expected_output:\n",
        "    print(\"Test passed!\")\n",
        "else:\n",
        "    print(\"Test failed!\")"
      ],
      "metadata": {
        "colab": {
          "base_uri": "https://localhost:8080/"
        },
        "id": "TKi2H8-UrRT6",
        "outputId": "e35331c0-7efe-4081-ad53-a7973373a217"
      },
      "id": "TKi2H8-UrRT6",
      "execution_count": 35,
      "outputs": [
        {
          "output_type": "stream",
          "name": "stdout",
          "text": [
            "lo: 0 , hi: 13 , mid: 6 , mid_number: 6\n",
            "Input cards: [8, 8, 6, 6, 6, 6, 6, 3, 2, 2, 2, 0, 0, 0]\n",
            "Input query: 6\n",
            "Expected output: 2\n",
            "Actual output: 6\n",
            "Test failed!\n"
          ]
        }
      ]
    },
    {
      "cell_type": "code",
      "source": [
        "Cards8 = test[8]['input']['cards']\n",
        "Query8 = test[8]['input']['query']"
      ],
      "metadata": {
        "id": "mOYnuZlrrmnQ"
      },
      "id": "mOYnuZlrrmnQ",
      "execution_count": 37,
      "outputs": []
    },
    {
      "cell_type": "code",
      "source": [
        "locate_card(Cards8, Query8)"
      ],
      "metadata": {
        "colab": {
          "base_uri": "https://localhost:8080/"
        },
        "id": "Qb89VskerzTr",
        "outputId": "8fd97edf-cef8-4bf9-c955-9674b94b4cc6"
      },
      "id": "Qb89VskerzTr",
      "execution_count": 39,
      "outputs": [
        {
          "output_type": "stream",
          "name": "stdout",
          "text": [
            "lo: 0 , hi: 13 , mid: 6 , mid_number: 6\n"
          ]
        },
        {
          "output_type": "execute_result",
          "data": {
            "text/plain": [
              "6"
            ]
          },
          "metadata": {},
          "execution_count": 39
        }
      ]
    },
    {
      "cell_type": "code",
      "source": [
        "def test_location(cards, query, mid):\n",
        "  mid_number = cards[mid]\n",
        "  print(\"mid:\", mid, \", mid_number:\", mid_number)\n",
        "  if mid_number == query:\n",
        "    if mid-1 >=0 and cards[mid-1]==query:\n",
        "      return 'left'\n",
        "    else:\n",
        "      return 'found' # Corrected: return 'found'\n",
        "  elif mid_number<query:\n",
        "    return 'left'\n",
        "  else:\n",
        "    return 'right'\n",
        "\n",
        "def locate_card(cards,query):\n",
        "  lo, hi = 0, len(cards)-1\n",
        "\n",
        "  while lo <= hi:\n",
        "    print(\"lo:\", lo, \", hi:\", hi)\n",
        "    mid = (lo + hi) // 2\n",
        "    result = test_location(cards, query, mid)\n",
        "\n",
        "    if result == 'found':\n",
        "      return mid\n",
        "    elif result == 'left':\n",
        "      hi = mid - 1\n",
        "    elif result == 'right':\n",
        "      lo = mid + 1\n",
        "  return -1"
      ],
      "metadata": {
        "id": "NC5MpbAC2FYp"
      },
      "id": "NC5MpbAC2FYp",
      "execution_count": 42,
      "outputs": []
    },
    {
      "cell_type": "code",
      "source": [
        "eight_test_case = test[8]\n",
        "cards_input = eight_test_case['input']['cards']\n",
        "query_input = eight_test_case['input']['query']\n",
        "expected_output = eight_test_case['output']\n",
        "\n",
        "actual_output = locate_card(cards_input, query_input)\n",
        "print(f\"Input cards: {cards_input}\")\n",
        "print(f\"Input query: {query_input}\")\n",
        "print(f\"Expected output: {expected_output}\")\n",
        "print(f\"Actual output: {actual_output}\")\n",
        "\n",
        "if actual_output == expected_output:\n",
        "    print(\"Test passed!\")\n",
        "else:\n",
        "    print(\"Test failed!\")"
      ],
      "metadata": {
        "colab": {
          "base_uri": "https://localhost:8080/"
        },
        "id": "DaxhtjRd4JwO",
        "outputId": "3f225fae-7b7d-4fae-9e8d-35a49bcc3c87"
      },
      "id": "DaxhtjRd4JwO",
      "execution_count": 43,
      "outputs": [
        {
          "output_type": "stream",
          "name": "stdout",
          "text": [
            "lo: 0 , hi: 13\n",
            "mid: 6 , mid_number: 6\n",
            "lo: 0 , hi: 5\n",
            "mid: 2 , mid_number: 6\n",
            "Input cards: [8, 8, 6, 6, 6, 6, 6, 3, 2, 2, 2, 0, 0, 0]\n",
            "Input query: 6\n",
            "Expected output: 2\n",
            "Actual output: 2\n",
            "Test passed!\n"
          ]
        }
      ]
    },
    {
      "cell_type": "code",
      "source": [
        "for i, test_case in enumerate(test[1:]):\n",
        "  print(f\"Test Case {i+1}:\")\n",
        "\n",
        "  cards_input = test_case['input']['cards']\n",
        "  query_input = test_case['input']['query']\n",
        "  # Check if 'output' key exists before accessing it\n",
        "  expected_output = test_case.get('output', None)\n",
        "\n",
        "  actual_output = locate_card(cards_input, query_input)\n",
        "\n",
        "  print(f\"Input cards: {cards_input}\")\n",
        "  print(f\"Input query: {query_input}\")\n",
        "  print(f\"Expected output: {expected_output}\")\n",
        "  print(f\"Actual output: {actual_output}\")\n",
        "\n",
        "  if actual_output == expected_output:\n",
        "    print(\"Test passed!\")\n",
        "  else:\n",
        "    print(\"Test failed!\")\n",
        "  print(\"_\"*20)"
      ],
      "metadata": {
        "id": "XKDG2bk14m2m",
        "outputId": "9796cf29-bd81-4f01-d259-bb8fe51361be",
        "colab": {
          "base_uri": "https://localhost:8080/"
        }
      },
      "id": "XKDG2bk14m2m",
      "execution_count": 44,
      "outputs": [
        {
          "output_type": "stream",
          "name": "stdout",
          "text": [
            "Test Case 1:\n",
            "lo: 0 , hi: 7\n",
            "mid: 3 , mid_number: 7\n",
            "lo: 4 , hi: 7\n",
            "mid: 5 , mid_number: 3\n",
            "lo: 6 , hi: 7\n",
            "mid: 6 , mid_number: 1\n",
            "Input cards: [13, 11, 10, 7, 4, 3, 1, 0]\n",
            "Input query: 1\n",
            "Expected output: 6\n",
            "Actual output: 6\n",
            "Test passed!\n",
            "____________________\n",
            "Test Case 2:\n",
            "lo: 0 , hi: 3\n",
            "mid: 1 , mid_number: 2\n",
            "lo: 0 , hi: 0\n",
            "mid: 0 , mid_number: 4\n",
            "Input cards: [4, 2, 1, -1]\n",
            "Input query: 4\n",
            "Expected output: 0\n",
            "Actual output: 0\n",
            "Test passed!\n",
            "____________________\n",
            "Test Case 3:\n",
            "lo: 0 , hi: 3\n",
            "mid: 1 , mid_number: -1\n",
            "lo: 2 , hi: 3\n",
            "mid: 2 , mid_number: -9\n",
            "lo: 3 , hi: 3\n",
            "mid: 3 , mid_number: -127\n",
            "Input cards: [3, -1, -9, -127]\n",
            "Input query: -127\n",
            "Expected output: 3\n",
            "Actual output: 3\n",
            "Test passed!\n",
            "____________________\n",
            "Test Case 4:\n",
            "lo: 0 , hi: 0\n",
            "mid: 0 , mid_number: 6\n",
            "Input cards: [6]\n",
            "Input query: 6\n",
            "Expected output: 0\n",
            "Actual output: 0\n",
            "Test passed!\n",
            "____________________\n",
            "Test Case 5:\n",
            "lo: 0 , hi: 4\n",
            "mid: 2 , mid_number: 5\n",
            "lo: 3 , hi: 4\n",
            "mid: 3 , mid_number: 2\n",
            "Input cards: [9, 7, 5, 2, -9]\n",
            "Input query: 4\n",
            "Expected output: -1\n",
            "Actual output: -1\n",
            "Test passed!\n",
            "____________________\n",
            "Test Case 6:\n",
            "Input cards: []\n",
            "Input query: 7\n",
            "Expected output: None\n",
            "Actual output: -1\n",
            "Test failed!\n",
            "____________________\n",
            "Test Case 7:\n",
            "lo: 0 , hi: 13\n",
            "mid: 6 , mid_number: 6\n",
            "lo: 7 , hi: 13\n",
            "mid: 10 , mid_number: 2\n",
            "lo: 7 , hi: 9\n",
            "mid: 8 , mid_number: 2\n",
            "lo: 7 , hi: 7\n",
            "mid: 7 , mid_number: 3\n",
            "Input cards: [8, 8, 6, 6, 6, 6, 6, 3, 2, 2, 2, 0, 0, 0]\n",
            "Input query: 3\n",
            "Expected output: 7\n",
            "Actual output: 7\n",
            "Test passed!\n",
            "____________________\n",
            "Test Case 8:\n",
            "lo: 0 , hi: 13\n",
            "mid: 6 , mid_number: 6\n",
            "lo: 0 , hi: 5\n",
            "mid: 2 , mid_number: 6\n",
            "Input cards: [8, 8, 6, 6, 6, 6, 6, 3, 2, 2, 2, 0, 0, 0]\n",
            "Input query: 6\n",
            "Expected output: 2\n",
            "Actual output: 2\n",
            "Test passed!\n",
            "____________________\n"
          ]
        }
      ]
    }
  ],
  "metadata": {
    "kernelspec": {
      "display_name": "Python 3",
      "name": "python3"
    },
    "language_info": {
      "name": "python"
    },
    "required_libs": [],
    "colab": {
      "provenance": [],
      "include_colab_link": true
    }
  },
  "nbformat": 4,
  "nbformat_minor": 5
}